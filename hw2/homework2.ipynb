{
 "cells": [
  {
   "cell_type": "code",
   "execution_count": 2,
   "metadata": {},
   "outputs": [],
   "source": [
    "from collections import Counter\n",
    "import json\n",
    "import urllib.request\n",
    "\n",
    "users_list = ['nevmenandr', 'ancatmara', 'kayajiva', 'akutuzov']\n",
    "\n",
    "def get_token():\n",
    "    with open('token.txt', encoding = 'utf-8') as f:\n",
    "        token = f.read()\n",
    "    return token"
   ]
  },
  {
   "cell_type": "code",
   "execution_count": 3,
   "metadata": {},
   "outputs": [],
   "source": [
    "def repo_choice(token):\n",
    "    print('Список некоторых пользователей гитхаба: ', ', '.join(users_list))\n",
    "    user = input('Введите любого пользователя из списка: ')\n",
    "    while user not in users_list:\n",
    "        user = input('Пожалуйсте, выбирайте пользователя только из списка: ')\n",
    "    print('Выбран пользователь {}.'.format(user))\n",
    "    url = 'https://api.github.com/users/{}/repos?acess_token={}'.format(user, token)\n",
    "    response = urllib.request.urlopen(url)\n",
    "    text = response.read().decode('utf-8')\n",
    "    data = json.loads(text)\n",
    "    print('\\nСписок репозиториев выбранного пользователя с описаниями: ')\n",
    "    for i in data:\n",
    "        if i['description'] is not None:\n",
    "            print('\\t{}: {}'.format(i['name'], i['description']))\n",
    "        else:\n",
    "            print('\\t{}: {}'.format(i['name'], 'Описание отсутствует'))\n",
    "    return user, data"
   ]
  },
  {
   "cell_type": "code",
   "execution_count": 4,
   "metadata": {},
   "outputs": [],
   "source": [
    "def repo_number(data, user):\n",
    "    language_list = []\n",
    "    for i in data:\n",
    "        if i['language'] is not None:\n",
    "            language_list.append(i['language'])   \n",
    "    print('\\nПользователь {} пишет на {}.'.format(user, ', '.join(list(set(language_list)))))\n",
    "    print('Количество репозиториев для каждого языка: ')\n",
    "    for k, v in dict(Counter(language_list)).items():\n",
    "        print('\\t{}: {}'.format(k, v))"
   ]
  },
  {
   "cell_type": "code",
   "execution_count": 5,
   "metadata": {},
   "outputs": [],
   "source": [
    "def repo_winner(token):\n",
    "    repo_dict = {}\n",
    "    for user in users_list:\n",
    "        url = 'https://api.github.com/users/{}/repos?acess_token={}'.format(user, token)\n",
    "        response = urllib.request.urlopen(url)\n",
    "        text = response.read().decode('utf-8')\n",
    "        data = json.loads(text)\n",
    "        length = len([i['name'] for i in data])\n",
    "        repo_dict.update({length: user})\n",
    "    print('\\nИз списка {} больше всего репозиториев у пользователя {}.'.format(', '.join(users_list), repo_dict[max(repo_dict.keys())]))"
   ]
  },
  {
   "cell_type": "code",
   "execution_count": 6,
   "metadata": {},
   "outputs": [],
   "source": [
    "def popular_language():\n",
    "    token = 'b03d94d1ea3e1366d700a0f855b84e7cb9eb9455'\n",
    "    languages_list = []\n",
    "    for user in users_list:\n",
    "        url = 'https://api.github.com/users/{}/repos?acess_token={}'.format(user, token)\n",
    "        response = urllib.request.urlopen(url)\n",
    "        text = response.read().decode('utf-8')\n",
    "        data = json.loads(text)\n",
    "        for i in data:\n",
    "            if i['language'] is not None:\n",
    "                languages_list.append(i['language'])\n",
    "    dicti = dict(Counter(languages_list))\n",
    "    dicti2 = {v:k for k, v in dicti.items()}\n",
    "    print('\\n{} - самый популярный язык среди пользователей.'.format(dicti2[max(dicti.values())]))"
   ]
  },
  {
   "cell_type": "code",
   "execution_count": 7,
   "metadata": {},
   "outputs": [],
   "source": [
    "def follower_winner():\n",
    "    followers_dict = {}\n",
    "    for user in users_list:\n",
    "        url = 'https://api.github.com/users/{}/followers'.format(user)\n",
    "        response = urllib.request.urlopen(url)\n",
    "        text = response.read().decode('utf-8')\n",
    "        data = json.loads(text)\n",
    "        quantity = len([i['login'] for i in data])\n",
    "        followers_dict.update({quantity: user})\n",
    "    print('\\nБольше всего фолловеров у пользователя {}.'.format(followers_dict[max(followers_dict.keys())]))"
   ]
  },
  {
   "cell_type": "code",
   "execution_count": null,
   "metadata": {},
   "outputs": [],
   "source": [
    "def main(users_list):\n",
    "    token = get_token()\n",
    "    user, data = repo_choice(token)\n",
    "    get_token()\n",
    "    repo_number(data, user)\n",
    "    repo_winner(token)\n",
    "    popular_language()\n",
    "    follower_winner()\n",
    "\n",
    "if __name__ == \"__main__\":\n",
    "    main(users_list)"
   ]
  }
 ],
 "metadata": {
  "kernelspec": {
   "display_name": "Python 3",
   "language": "python",
   "name": "python3"
  },
  "language_info": {
   "codemirror_mode": {
    "name": "ipython",
    "version": 3
   },
   "file_extension": ".py",
   "mimetype": "text/x-python",
   "name": "python",
   "nbconvert_exporter": "python",
   "pygments_lexer": "ipython3",
   "version": "3.6.5"
  }
 },
 "nbformat": 4,
 "nbformat_minor": 2
}
